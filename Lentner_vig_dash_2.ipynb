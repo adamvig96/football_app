{
 "cells": [
  {
   "cell_type": "code",
   "execution_count": 1,
   "metadata": {},
   "outputs": [],
   "source": [
    "import json\n",
    "import requests\n",
    "import pandas as pd\n",
    "import networkx as nx\n",
    "import pyvis\n",
    "\n",
    "from pyvis.network import Network"
   ]
  },
  {
   "cell_type": "code",
   "execution_count": 6,
   "metadata": {},
   "outputs": [],
   "source": [
    "match_url = \"https://borza-hotelcom-data.s3.eu-central-1.amazonaws.com/whoscored-match-1376867.json\""
   ]
  },
  {
   "cell_type": "code",
   "execution_count": 7,
   "metadata": {},
   "outputs": [],
   "source": [
    "dic = json.loads(requests.get(match_url).content)"
   ]
  },
  {
   "cell_type": "markdown",
   "metadata": {},
   "source": [
    "# Adatmaszírozás"
   ]
  },
  {
   "cell_type": "code",
   "execution_count": 8,
   "metadata": {},
   "outputs": [],
   "source": [
    "match_title = (\n",
    "    f'{dic[\"home\"][\"name\"]} {dic[\"score\"]} {dic[\"away\"][\"name\"]}'\n",
    ")"
   ]
  },
  {
   "cell_type": "code",
   "execution_count": 9,
   "metadata": {
    "scrolled": true
   },
   "outputs": [
    {
     "name": "stderr",
     "output_type": "stream",
     "text": [
      "/usr/local/lib/python3.7/site-packages/ipykernel_launcher.py:15: SettingWithCopyWarning: \n",
      "A value is trying to be set on a copy of a slice from a DataFrame.\n",
      "Try using .loc[row_indexer,col_indexer] = value instead\n",
      "\n",
      "See the caveats in the documentation: https://pandas.pydata.org/pandas-docs/stable/user_guide/indexing.html#returning-a-view-versus-a-copy\n",
      "  from ipykernel import kernelapp as app\n"
     ]
    }
   ],
   "source": [
    "passes = []\n",
    "for i in range(len(dic[\"events\"])):\n",
    "    if (\n",
    "        dic[\"events\"][i][\"type\"][\"displayName\"] == \"Pass\"\n",
    "        and dic[\"events\"][i][\"outcomeType\"][\"displayName\"] == \"Successful\"\n",
    "        and dic[\"events\"][i][\"teamId\"] == dic[\"events\"][i + 1][\"teamId\"]\n",
    "    ):\n",
    "        dic[\"events\"][i][\"recieverId\"] = dic[\"events\"][i + 1][\"playerId\"]\n",
    "        passes.append(dic[\"events\"][i])\n",
    "\n",
    "passes_df_big = pd.DataFrame(passes)\n",
    "\n",
    "passes_df = passes_df_big[[\"playerId\", \"recieverId\", \"teamId\"]]\n",
    "\n",
    "passes_df[\"passes\"] = \"huh\"\n",
    "\n",
    "test_df = passes_df.groupby([\"playerId\", \"recieverId\", \"teamId\"]).count().reset_index()\n",
    "\n",
    "test_df = test_df[test_df[\"playerId\"] != test_df[\"recieverId\"]].reset_index(drop=True)\n",
    "\n",
    "test_df[\"color\"] = test_df.apply(\n",
    "    lambda x: \"red\" if x[\"teamId\"] == dic[\"home\"][\"teamId\"] else \"blue\", axis=1\n",
    ")"
   ]
  },
  {
   "cell_type": "code",
   "execution_count": 10,
   "metadata": {},
   "outputs": [],
   "source": [
    "sub_1=passes_df_big[[\"playerId\", \"recieverId\", \"x\", \"y\", 'endX', \"endY\"]]\n",
    "\n",
    "sub_2=pd.DataFrame()\n",
    "\n",
    "sub_2['playerId']=sub_1['recieverId']\n",
    "sub_2['recieverId']=sub_1['playerId']\n",
    "sub_2['x']=sub_1['endX']\n",
    "sub_2['y']=sub_1['endY']\n",
    "sub_2['endX']=sub_1['x']\n",
    "sub_2['endY']=sub_1['y']\n",
    "\n",
    "sub=pd.concat([sub_1,sub_2])\n",
    "\n",
    "sub=sub.drop_duplicates(subset=['playerId'])\n",
    "\n",
    "coordinates=sub[['playerId', 'x', 'y']]"
   ]
  },
  {
   "cell_type": "code",
   "execution_count": 11,
   "metadata": {},
   "outputs": [],
   "source": [
    "players = []\n",
    "for i in dic[\"home\"][\"players\"]:\n",
    "    if i[\"playerId\"] in list(test_df[\"playerId\"]) or i[\"playerId\"] in list(\n",
    "        test_df[\"recieverId\"]\n",
    "    ):\n",
    "        players.append(\n",
    "            [\n",
    "                i[\"playerId\"],\n",
    "                i[\"name\"],\n",
    "                i[\"shirtNo\"],\n",
    "                i[\"position\"],\n",
    "                i[\"height\"],\n",
    "                i[\"weight\"],\n",
    "                i[\"age\"],\n",
    "                i[\"stats\"][\"ratings\"].popitem()[1],\n",
    "            ]\n",
    "        )\n",
    "players = pd.DataFrame.from_records(players).rename(\n",
    "    columns={\n",
    "        0: \"playerId\",\n",
    "        1: \"playerName\",\n",
    "        2: \"shirtNo\",\n",
    "        3: \"position\",\n",
    "        4: \"height\",\n",
    "        5: \"weight\",\n",
    "        6: \"age\",\n",
    "        7: \"rating\",\n",
    "    }\n",
    ")\n",
    "home_players = players.copy()\n",
    "\n",
    "players = []\n",
    "for i in dic[\"away\"][\"players\"]:\n",
    "    if i[\"playerId\"] in list(test_df[\"playerId\"]) or i[\"playerId\"] in list(\n",
    "        test_df[\"recieverId\"]\n",
    "    ):\n",
    "        players.append(\n",
    "            [\n",
    "                i[\"playerId\"],\n",
    "                i[\"name\"],\n",
    "                i[\"shirtNo\"],\n",
    "                i[\"position\"],\n",
    "                i[\"height\"],\n",
    "                i[\"weight\"],\n",
    "                i[\"age\"],\n",
    "                i[\"stats\"][\"ratings\"].popitem()[1],\n",
    "            ]\n",
    "        )\n",
    "players = pd.DataFrame.from_records(players).rename(\n",
    "    columns={\n",
    "        0: \"playerId\",\n",
    "        1: \"playerName\",\n",
    "        2: \"shirtNo\",\n",
    "        3: \"position\",\n",
    "        4: \"height\",\n",
    "        5: \"weight\",\n",
    "        6: \"age\",\n",
    "        7: \"rating\",\n",
    "    }\n",
    ")\n",
    "away_players = players\n",
    "\n",
    "players = pd.concat([home_players, away_players]).reset_index().drop(\"index\", axis=1)"
   ]
  },
  {
   "cell_type": "code",
   "execution_count": 12,
   "metadata": {},
   "outputs": [],
   "source": [
    "players.to_pickle(\"player_df.pkl\")"
   ]
  },
  {
   "cell_type": "code",
   "execution_count": 13,
   "metadata": {
    "scrolled": false
   },
   "outputs": [
    {
     "name": "stderr",
     "output_type": "stream",
     "text": [
      "/usr/local/lib/python3.7/site-packages/ipykernel_launcher.py:7: SettingWithCopyWarning: \n",
      "A value is trying to be set on a copy of a slice from a DataFrame\n",
      "\n",
      "See the caveats in the documentation: https://pandas.pydata.org/pandas-docs/stable/user_guide/indexing.html#returning-a-view-versus-a-copy\n",
      "  import sys\n",
      "/usr/local/lib/python3.7/site-packages/ipykernel_launcher.py:12: SettingWithCopyWarning: \n",
      "A value is trying to be set on a copy of a slice from a DataFrame\n",
      "\n",
      "See the caveats in the documentation: https://pandas.pydata.org/pandas-docs/stable/user_guide/indexing.html#returning-a-view-versus-a-copy\n",
      "  if sys.path[0] == '':\n"
     ]
    }
   ],
   "source": [
    "test_df[\"playerName\"] = \"huh\"\n",
    "test_df[\"recieverName\"]= \"huh\"\n",
    "for i in range(len(test_df[\"playerId\"])):\n",
    "    test_df[\"playerName\"][i] = (\n",
    "        players[\"playerName\"]\n",
    "        .loc[players[\"playerId\"] == test_df[\"playerId\"][i]]\n",
    "        .reset_index(drop=True)[0]\n",
    "    )\n",
    "    test_df[\"recieverName\"][i] = (\n",
    "        players[\"playerName\"]\n",
    "        .loc[players[\"playerId\"] == test_df[\"recieverId\"][i]]\n",
    "        .reset_index(drop=True)[0]\n",
    "    )"
   ]
  },
  {
   "cell_type": "code",
   "execution_count": 14,
   "metadata": {},
   "outputs": [],
   "source": [
    "G = nx.DiGraph()\n",
    "for i in range(1, (len(test_df))):\n",
    "    G.add_edge(\n",
    "        test_df.loc[i, \"playerName\"],\n",
    "        test_df.loc[i, \"recieverName\"],\n",
    "        weight=test_df.loc[i, \"passes\"],\n",
    "    )\n",
    "\n",
    "cc = nx.closeness_centrality(G, u=None, distance=None, wf_improved=False)\n",
    "for i in list(cc.keys()):\n",
    "    cc[i] = round(cc[i], 2)\n",
    "\n",
    "CC_df = pd.DataFrame.from_dict(cc, orient=\"index\", columns=[\"closeness centrality\"])\n",
    "\n",
    "players = players.merge(CC_df, how=\"left\", left_on=\"playerName\", right_index=True)\n",
    "test_df = test_df.merge(CC_df, how=\"left\", left_on=\"playerName\", right_index=True)"
   ]
  },
  {
   "cell_type": "code",
   "execution_count": 15,
   "metadata": {},
   "outputs": [],
   "source": [
    "test_df=test_df.merge(coordinates)"
   ]
  },
  {
   "cell_type": "code",
   "execution_count": 16,
   "metadata": {},
   "outputs": [],
   "source": [
    "test_df.to_pickle(\"test_df.pkl\")"
   ]
  },
  {
   "cell_type": "markdown",
   "metadata": {},
   "source": [
    "# háló"
   ]
  },
  {
   "cell_type": "code",
   "execution_count": 17,
   "metadata": {},
   "outputs": [],
   "source": [
    "test_df = pd.read_pickle('test_df.pkl')"
   ]
  },
  {
   "cell_type": "markdown",
   "metadata": {},
   "source": [
    "### csapat logók\n",
    "\n",
    "sevilla_logo  = \"https://www.logofootball.net/wp-content/uploads/Sevilla-FC-Logo.png\"\n",
    "espanyol_logo = \"https://upload.wikimedia.org/wikipedia/en/thumb/d/d6/Rcd_espanyol_logo.svg/1200px-Rcd_espanyol_logo.svg.png\"\n",
    "\n",
    "test_df['logo']=test_df.apply(lambda x: espanyol_logo if x['teamId']==70 else sevilla_logo, axis=1 )"
   ]
  },
  {
   "cell_type": "markdown",
   "metadata": {},
   "source": [
    "### info táblák"
   ]
  },
  {
   "cell_type": "code",
   "execution_count": 18,
   "metadata": {},
   "outputs": [],
   "source": [
    "nev_lista = list(players[\"playerName\"])\n",
    "faszom = players.transpose().set_axis(nev_lista, axis=1, inplace=False).drop(index=\"playerName\")\n",
    "faszom=faszom.set_axis(list(\"<br>\"+faszom.index+\":\"), axis=0, inplace=False).drop([\"<br>playerId:\"])"
   ]
  },
  {
   "cell_type": "code",
   "execution_count": 19,
   "metadata": {},
   "outputs": [],
   "source": [
    "key_list=list(faszom.index)\n",
    "key_list[0] = \"<br>shirt number:\""
   ]
  },
  {
   "cell_type": "code",
   "execution_count": 20,
   "metadata": {},
   "outputs": [],
   "source": [
    "info_dic = {}\n",
    "for j in range(len(nev_lista)):\n",
    "    global_shit=\"\"\n",
    "    value_list=list(faszom[nev_lista[j]])\n",
    "    for i in range(len(key_list)):\n",
    "        global_shit=global_shit+key_list[i]+\" \"+str(value_list[i])\n",
    "        info_dic[nev_lista[j]]=global_shit"
   ]
  },
  {
   "cell_type": "markdown",
   "metadata": {},
   "source": [
    "### hálógeneráló fgv"
   ]
  },
  {
   "cell_type": "code",
   "execution_count": 21,
   "metadata": {
    "scrolled": true
   },
   "outputs": [],
   "source": [
    "def pass_net(df, height=\"800px\", width=\"100%\", name=\"team\"):\n",
    "    pass_net = Network(\n",
    "        height=height,\n",
    "        width=width,\n",
    "        bgcolor=\"FFFFFF\",\n",
    "        font_color=\"black\",\n",
    "        directed=True,\n",
    "        notebook=False,\n",
    "    )\n",
    "    pass_net.barnes_hut()\n",
    "    sources = df[\"playerName\"]\n",
    "    targets = df[\"recieverName\"]\n",
    "    weights = df[\"passes\"]\n",
    "    size = 2*df[\"closeness centrality\"]\n",
    "    color = df[\"color\"]\n",
    "\n",
    "    edge_data = zip(sources, targets, weights, size, color)\n",
    "    for e in edge_data:\n",
    "        src = str(e[0])\n",
    "        dst = str(e[1])\n",
    "        w = e[2]\n",
    "        s = e[3]\n",
    "        c = e[4]\n",
    "        pass_net.add_node(src, src, title=src, size=s, color=c)\n",
    "        pass_net.add_node(dst, dst, title=dst, size=s, color=c)\n",
    "        pass_net.add_edge(src, dst, value=w)\n",
    "        neighbor_map = pass_net.get_adj_list()\n",
    "\n",
    "    for node in pass_net.nodes:\n",
    "        node[\"title\"] += info_dic[node[\"title\"]]\n",
    "        node[\"value\"] = len(neighbor_map[node[\"id\"]])\n",
    "\n",
    "    pass_net.set_options(\n",
    "        \"\"\"\n",
    "    var options = {\n",
    "      \"nodes\": {\n",
    "        \"borderWidth\": 2,\n",
    "        \"color\": {\n",
    "          \"highlight\": {\n",
    "            \"background\": \"rgba(217,255,50,1)\"\n",
    "          }\n",
    "        },\n",
    "        \"font\": {\n",
    "          \"size\": 50,\n",
    "          \"face\": \"tahoma\"\n",
    "        }\n",
    "      },\n",
    "      \"edges\": {\n",
    "        \"color\": {\n",
    "          \"inherit\": true\n",
    "        },\n",
    "        \"smooth\": false\n",
    "      },\n",
    "      \"physics\": {\n",
    "        \"barnesHut\": {\n",
    "          \"gravitationalConstant\": -80000,\n",
    "          \"springLength\": 250,\n",
    "          \"springConstant\": 0.001\n",
    "        },\n",
    "        \"minVelocity\": 0.75\n",
    "      }\n",
    "    }\n",
    "    \"\"\"\n",
    "    )\n",
    "\n",
    "    pass_net.show(\"pass_network_\" + name + \".html\")"
   ]
  },
  {
   "cell_type": "code",
   "execution_count": 22,
   "metadata": {},
   "outputs": [],
   "source": [
    "team_id_dic = {\n",
    "   dic[v][\"teamId\"]: f\"{v} - {dic[v]['name']}\" for v in [\"home\", \"away\"]\n",
    "}"
   ]
  },
  {
   "cell_type": "code",
   "execution_count": 23,
   "metadata": {},
   "outputs": [],
   "source": [
    "team_1 = test_df.loc[test_df[\"teamId\"] == list(team_id_dic.keys())[0]]\n",
    "\n",
    "pass_net(team_1,height=\"380px\",name=\"team1\")"
   ]
  },
  {
   "cell_type": "code",
   "execution_count": 24,
   "metadata": {},
   "outputs": [],
   "source": [
    "team_2 = test_df.loc[test_df[\"teamId\"] == list(team_id_dic.keys())[1]]\n",
    "\n",
    "pass_net(team_2,height=\"380px\",name=\"team2\")"
   ]
  },
  {
   "cell_type": "code",
   "execution_count": null,
   "metadata": {},
   "outputs": [],
   "source": []
  },
  {
   "cell_type": "markdown",
   "metadata": {},
   "source": [
    "# Dash"
   ]
  },
  {
   "cell_type": "code",
   "execution_count": null,
   "metadata": {},
   "outputs": [
    {
     "name": "stdout",
     "output_type": "stream",
     "text": [
      "Running on http://127.0.0.1:8054/\n",
      "Debugger PIN: 211-452-353\n",
      " * Serving Flask app \"__main__\" (lazy loading)\n",
      " * Environment: production\n",
      "\u001b[31m   WARNING: This is a development server. Do not use it in a production deployment.\u001b[0m\n",
      "\u001b[2m   Use a production WSGI server instead.\u001b[0m\n",
      " * Debug mode: on\n"
     ]
    }
   ],
   "source": [
    "import dash\n",
    "import dash_html_components as html\n",
    "import dash_core_components as dcc\n",
    "from dash_html_components import Div, H3, H1, Link\n",
    "import plotly.express as px\n",
    "\n",
    "external_stylesheets = [\"https://codepen.io/chriddyp/pen/bWLwgP.css\"]\n",
    "app = dash.Dash(__name__, external_stylesheets=external_stylesheets)\n",
    "\n",
    "app.title = \"Pass network\"\n",
    "\n",
    "app.scripts.config.serve_locally = True\n",
    "\n",
    "# correl plot\n",
    "fig = px.scatter(\n",
    "    players,\n",
    "    x=\"rating\",\n",
    "    y=\"closeness centrality\",\n",
    "    trendline=\"ols\",\n",
    "    hover_name=\"playerName\",\n",
    ")\n",
    "fig.update_layout(title_text=\"Closeness centrality and rating of players\")\n",
    "\n",
    "#layout\n",
    "app.layout = html.Div(\n",
    "    children=[\n",
    "        H1(\n",
    "            children=f\"{match_title} pass network\",\n",
    "            style={\n",
    "                \"color\": \"black\",\n",
    "                \"backgroundColor\": \"ffffff\",\n",
    "                \"text-align\": \"center\",\n",
    "            },\n",
    "        ),\n",
    "        html.Div(\n",
    "            children=[\n",
    "                html.H3(children=\"Sevilla\", className=\"six columns\"),\n",
    "                html.Div(\n",
    "                    html.Iframe(\n",
    "                        srcDoc=open(\"pass_network_team1.html\").read(),\n",
    "                        style={\"height\": \"100%\", \"width\": \"100%\"},\n",
    "                    ),\n",
    "                    style={\"height\": \"400px\"},\n",
    "                    className=\"six columns\",\n",
    "                ),\n",
    "            ],\n",
    "            className=\"row\",\n",
    "        ),\n",
    "        html.Div(\n",
    "            children=[\n",
    "                html.Div(\n",
    "                    children=[dcc.Graph(id=\"correl-graph\", figure=fig),],\n",
    "                    className=\"six columns\",\n",
    "                ),\n",
    "                html.Div(\n",
    "                    html.Iframe(\n",
    "                        srcDoc=open(\"pass_network_team2.html\").read(),\n",
    "                        style={\"height\": \"100%\", \"width\": \"100%\"},\n",
    "                    ),\n",
    "                    style={\"height\": \"400px\"},\n",
    "                    className=\"six columns\",\n",
    "                ),\n",
    "            ],\n",
    "            className=\"row\",\n",
    "        ),\n",
    "    ]\n",
    ")\n",
    "\n",
    "\n",
    "if __name__ == \"__main__\":\n",
    "    app.run_server(debug=True, use_reloader=False, port=8054)"
   ]
  },
  {
   "cell_type": "code",
   "execution_count": null,
   "metadata": {},
   "outputs": [],
   "source": []
  }
 ],
 "metadata": {
  "kernelspec": {
   "display_name": "Python 3",
   "language": "python",
   "name": "python3"
  },
  "language_info": {
   "codemirror_mode": {
    "name": "ipython",
    "version": 3
   },
   "file_extension": ".py",
   "mimetype": "text/x-python",
   "name": "python",
   "nbconvert_exporter": "python",
   "pygments_lexer": "ipython3",
   "version": "3.7.7"
  }
 },
 "nbformat": 4,
 "nbformat_minor": 4
}
